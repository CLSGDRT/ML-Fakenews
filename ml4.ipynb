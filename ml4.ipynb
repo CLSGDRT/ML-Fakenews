{
 "cells": [
  {
   "cell_type": "markdown",
   "id": "2f858025",
   "metadata": {},
   "source": [
    "# 0 - Imports python"
   ]
  },
  {
   "cell_type": "code",
   "execution_count": null,
   "id": "70ef282a",
   "metadata": {},
   "outputs": [],
   "source": [
    "import pandas as pd\n",
    "import numpy as np\n",
    "import matplotlib.pyplot as plt\n",
    "import re\n",
    "from langdetect import detect, DetectorFactory\n",
    "from nltk.corpus import stopwords\n",
    "from nltk.stem import WordNetLemmatizer\n",
    "import nltk\n",
    "from sklearn.model_selection import train_test_split\n",
    "from sklearn.feature_extraction.text import TfidfVectorizer, CountVectorizer\n",
    "from sklearn.compose import ColumnTransformer\n",
    "from sklearn.pipeline import Pipeline\n",
    "from sklearn.linear_model import LogisticRegression\n",
    "from sklearn.metrics import classification_report, confusion_matrix\n",
    "import seaborn as sns\n",
    "from sklearn.ensemble import RandomForestClassifier\n",
    "from tensorflow.keras.models import Sequential\n",
    "from tensorflow.keras.layers import Embedding, Bidirectional, LSTM, Dense, TextVectorization\n",
    "from tensorflow.keras.preprocessing.text import Tokenizer\n",
    "from tensorflow.keras.preprocessing.sequence import pad_sequences\n",
    "from scikeras.wrappers import KerasClassifier\n",
    "from transformers import AutoTokenizer, AutoModelForSequenceClassification\n",
    "from datasets import Dataset\n"
   ]
  },
  {
   "cell_type": "markdown",
   "id": "720a1da6",
   "metadata": {},
   "source": [
    "# 1 - Import des fichiers train.csv et test.csv"
   ]
  },
  {
   "cell_type": "code",
   "execution_count": null,
   "id": "a5883b57",
   "metadata": {},
   "outputs": [],
   "source": [
    "train_path = \"./assets/train.csv\"\n",
    "train = pd.read_csv(train_path)\n",
    "\n",
    "test_path = \"./assets/test.csv\"\n",
    "test = pd.read_csv(test_path)"
   ]
  },
  {
   "cell_type": "code",
   "execution_count": null,
   "id": "1402e1cb",
   "metadata": {},
   "outputs": [],
   "source": [
    "train.head()"
   ]
  },
  {
   "cell_type": "code",
   "execution_count": null,
   "id": "9a0e223a",
   "metadata": {},
   "outputs": [],
   "source": [
    "test.head()"
   ]
  },
  {
   "cell_type": "markdown",
   "id": "981e89c1",
   "metadata": {},
   "source": [
    "# 2 - Traitement des données train"
   ]
  },
  {
   "cell_type": "markdown",
   "id": "d0d8c312",
   "metadata": {},
   "source": [
    "## 1 - Analyse des données"
   ]
  },
  {
   "cell_type": "code",
   "execution_count": null,
   "id": "277a5ab9",
   "metadata": {},
   "outputs": [],
   "source": [
    "label = \"Labels\"\n",
    "\n",
    "print(train[label].unique())"
   ]
  },
  {
   "cell_type": "code",
   "execution_count": null,
   "id": "e8c7ef07",
   "metadata": {},
   "outputs": [],
   "source": [
    "print(\"Valeurs Labels manquantes :\", train[label].isna().sum())"
   ]
  },
  {
   "cell_type": "code",
   "execution_count": null,
   "id": "065a155f",
   "metadata": {},
   "outputs": [],
   "source": [
    "tag = \"Text_Tag\"\n",
    "print(list(train[tag].unique()))"
   ]
  },
  {
   "cell_type": "code",
   "execution_count": null,
   "id": "b52473a7",
   "metadata": {},
   "outputs": [],
   "source": [
    "print(\"Valeurs Text_Tag manquantes :\", train[tag].isna().sum())"
   ]
  },
  {
   "cell_type": "markdown",
   "id": "7ca245ea",
   "metadata": {},
   "source": [
    "- Remplacement des null par \"unknown\""
   ]
  },
  {
   "cell_type": "code",
   "execution_count": null,
   "id": "a76983a0",
   "metadata": {},
   "outputs": [],
   "source": [
    "train[tag] = train[tag].fillna(\"unknown\")"
   ]
  },
  {
   "cell_type": "code",
   "execution_count": null,
   "id": "09ac0814",
   "metadata": {},
   "outputs": [],
   "source": [
    "text = \"Text\"\n",
    "print(\"Valeurs Text manquantes :\", train[text].isna().sum())"
   ]
  },
  {
   "cell_type": "markdown",
   "id": "34b62a1b",
   "metadata": {},
   "source": [
    "### Analyse du champs Text"
   ]
  },
  {
   "cell_type": "code",
   "execution_count": null,
   "id": "1a0d745f",
   "metadata": {},
   "outputs": [],
   "source": [
    "doublons = train[text].duplicated().sum()\n",
    "print(doublons)"
   ]
  },
  {
   "cell_type": "code",
   "execution_count": null,
   "id": "1bfed14d",
   "metadata": {},
   "outputs": [],
   "source": [
    "len_text = \"len_text\"\n",
    "word_text = \"word_text\"\n",
    "\n",
    "train[len_text] = train[text].str.len()\n",
    "train[word_text] = train[text].str.split().str.len()\n",
    "\n",
    "print(train[[len_text, word_text]].describe())"
   ]
  },
  {
   "cell_type": "code",
   "execution_count": null,
   "id": "05995b4e",
   "metadata": {},
   "outputs": [],
   "source": [
    "def repeated_letters(text):\n",
    "    return bool(re.search(r\"([a-zA-Z])\\1{2,}\", str(text)))\n",
    "\n",
    "repeated_letters_column = \"repeated_letters\"\n",
    "\n",
    "train[repeated_letters_column] = train[text].apply(repeated_letters)\n",
    "\n",
    "print(train[repeated_letters_column].value_counts())"
   ]
  },
  {
   "cell_type": "code",
   "execution_count": null,
   "id": "343183b5",
   "metadata": {},
   "outputs": [],
   "source": [
    "train[train[repeated_letters_column] == True].head(8)"
   ]
  },
  {
   "cell_type": "markdown",
   "id": "8b32c3af",
   "metadata": {},
   "source": [
    "- Malgré la répétition des lettres, je constate que le texte reste \"réel\""
   ]
  },
  {
   "cell_type": "markdown",
   "id": "e7383f70",
   "metadata": {},
   "source": [
    "### Aide à la décision sur longueur du champs Text"
   ]
  },
  {
   "cell_type": "code",
   "execution_count": null,
   "id": "c7664733",
   "metadata": {},
   "outputs": [],
   "source": [
    "# Répartition du nombre de lettres\n",
    "plt.figure(figsize=(10,6))\n",
    "plt.hist(train[len_text], bins=30, color='skyblue', edgecolor='black')\n",
    "plt.xlabel(\"Nombre de lettres\")\n",
    "plt.ylabel(\"Nombre de lignes\")\n",
    "plt.title(\"Histogramme du nombre de lettres dans len_text\")\n",
    "plt.grid(axis='y', alpha=0.75)\n",
    "plt.show()\n"
   ]
  },
  {
   "cell_type": "code",
   "execution_count": null,
   "id": "6aa720de",
   "metadata": {},
   "outputs": [],
   "source": [
    "# Moyenne et médiane\n",
    "mean_len = train[len_text].mean()\n",
    "median_len = train[len_text].median()\n",
    "print(\"\\nMoyenne :\", mean_len)\n",
    "print(\"Médiane :\", median_len)\n",
    "\n",
    "# Quartiles 25% et 75%\n",
    "q25 = train[len_text].quantile(0.25)\n",
    "q75 = train[len_text].quantile(0.75)\n",
    "print(\"25% :\", q25)\n",
    "print(\"75% :\", q75)\n",
    "\n",
    "# Percentiles de 80% à 95% par pas de 5%\n",
    "percentiles = train[len_text].quantile([0.8, 0.85, 0.9, 0.95])\n",
    "print(\"\\nPercentiles 80% à 95% :\")\n",
    "print(percentiles)"
   ]
  },
  {
   "cell_type": "markdown",
   "id": "42b72c6e",
   "metadata": {},
   "source": [
    "- Je prends la décision de rester en dessous de 200 caractères afin de limiter surtout les textes exotiques dépassant les 500 caratères."
   ]
  },
  {
   "cell_type": "markdown",
   "id": "4a7c0d48",
   "metadata": {},
   "source": [
    "### Décompte du nombre de tag par text"
   ]
  },
  {
   "cell_type": "code",
   "execution_count": null,
   "id": "70f477d9",
   "metadata": {},
   "outputs": [],
   "source": [
    "train[\"count_tag\"] = train[tag].str.count(\",\") + 1\n",
    "train.head()"
   ]
  },
  {
   "cell_type": "markdown",
   "id": "e453a487",
   "metadata": {},
   "source": [
    "### Répartition suivant nombre de tags"
   ]
  },
  {
   "cell_type": "code",
   "execution_count": null,
   "id": "0799b15e",
   "metadata": {},
   "outputs": [],
   "source": [
    "repartition = train[\"count_tag\"].value_counts().sort_index()\n",
    "repartition.plot(kind=\"bar\")\n",
    "plt.xlabel(\"Nombre de tags\")\n",
    "plt.ylabel(\"Nombre de lignes\")\n",
    "plt.title(\"Répartition du nombre de tags par entrée\")\n",
    "plt.show()"
   ]
  },
  {
   "cell_type": "code",
   "execution_count": null,
   "id": "d6bca729",
   "metadata": {},
   "outputs": [],
   "source": [
    "mean = train[\"count_tag\"].mean()\n",
    "\n",
    "median = train[\"count_tag\"].median()\n",
    "\n",
    "q25 = train[\"count_tag\"].quantile(0.25)\n",
    "q75 = train[\"count_tag\"].quantile(0.75)\n",
    "q85 = train[\"count_tag\"].quantile(0.85)\n",
    "q95 = train[\"count_tag\"].quantile(0.95)\n",
    "\n",
    "\n",
    "print(\"Moyenne :\", mean)\n",
    "print(\"Médiane :\", median)\n",
    "print(\"25% :\", q25)\n",
    "print(\"75% :\", q75)\n",
    "print(\"85% :\", q85)\n",
    "print(\"95% :\", q95)\n"
   ]
  },
  {
   "cell_type": "markdown",
   "id": "64e34e8e",
   "metadata": {},
   "source": [
    "- On pourrait limiter le nombre de tags à 3 sans perte de beaucoup d'informations dans nos données, à voir.\n"
   ]
  },
  {
   "cell_type": "markdown",
   "id": "3f501b29",
   "metadata": {},
   "source": [
    "### Pré-nettoyage des données train"
   ]
  },
  {
   "cell_type": "code",
   "execution_count": null,
   "id": "2e68dcaf",
   "metadata": {},
   "outputs": [],
   "source": [
    "train[text] = train[text].str.lower()\n",
    "train[tag] = train[tag].str.lower()"
   ]
  },
  {
   "cell_type": "code",
   "execution_count": null,
   "id": "aaeb1274",
   "metadata": {},
   "outputs": [],
   "source": [
    "train[text] = train[text].str.strip()\n",
    "train[tag] = train[tag].str.strip()"
   ]
  },
  {
   "cell_type": "code",
   "execution_count": null,
   "id": "c10575cc",
   "metadata": {},
   "outputs": [],
   "source": [
    "train[tag] = train[tag].str.replace(\",\",\" \")"
   ]
  },
  {
   "cell_type": "code",
   "execution_count": null,
   "id": "505edb3e",
   "metadata": {},
   "outputs": [],
   "source": [
    "all_tags = train[tag].str.split().explode()"
   ]
  },
  {
   "cell_type": "code",
   "execution_count": null,
   "id": "6f1609cd",
   "metadata": {},
   "outputs": [],
   "source": [
    "tag_counts = all_tags.value_counts()"
   ]
  },
  {
   "cell_type": "code",
   "execution_count": null,
   "id": "78a31ac6",
   "metadata": {},
   "outputs": [],
   "source": [
    "print(\"20 tags les plus fréquents :\")\n",
    "print(tag_counts.head(20))"
   ]
  },
  {
   "cell_type": "code",
   "execution_count": null,
   "id": "0c95834d",
   "metadata": {},
   "outputs": [],
   "source": [
    "print(\"\\n20 tags les moins fréquents :\")\n",
    "print(tag_counts.tail(20))"
   ]
  },
  {
   "cell_type": "markdown",
   "id": "45397298",
   "metadata": {},
   "source": [
    "### Suppression des tags rares (<= 5 apparitions)"
   ]
  },
  {
   "cell_type": "code",
   "execution_count": null,
   "id": "ea05d562",
   "metadata": {},
   "outputs": [],
   "source": [
    "seuil = 5\n",
    "\n",
    "def remove_rare_tag(tag_string):\n",
    "    tags = tag_string.split()\n",
    "    tags_kept = [t for t in tags if tag_counts[t] > seuil]\n",
    "    return \" \".join(tags_kept)\n",
    "\n",
    "train[tag] = train[tag].apply(remove_rare_tag)\n",
    "\n",
    "print(train[train[tag].str.contains(r\"\\bhomeless\\b\", na=False)]) # test sur le tag homeless qui comptait 1 apparition"
   ]
  },
  {
   "cell_type": "markdown",
   "id": "c0c6f8cc",
   "metadata": {},
   "source": [
    "- Vérification de la non-création de tag \"null\""
   ]
  },
  {
   "cell_type": "code",
   "execution_count": null,
   "id": "97fc9fc7",
   "metadata": {},
   "outputs": [],
   "source": [
    "print(train[tag].isna().sum())"
   ]
  },
  {
   "cell_type": "markdown",
   "id": "5f2c0eb8",
   "metadata": {},
   "source": [
    "## 2 - Nettoyage des données train"
   ]
  },
  {
   "cell_type": "markdown",
   "id": "690f773b",
   "metadata": {},
   "source": [
    "### 0 - Roadmap"
   ]
  },
  {
   "cell_type": "markdown",
   "id": "1e03a7be",
   "metadata": {},
   "source": [
    "Suite à l'analyse précédente j'applique les actions suivantes :\n",
    "- Limitation des tags à 3 (les plus représentés) sur la colonne \"Text_Tag\"\n",
    "- Limitation à 200 caractères sur la colonne \"Text\"\n",
    "- Concernant les labels :\n",
    "    - Exclure les inconnues\n",
    "    - Regrouper les labels\n",
    "    - Ordonner logiquement les labels\n",
    "    - Vérifier la représentation des classes\n",
    "    - Réajuster si nécessaire"
   ]
  },
  {
   "cell_type": "markdown",
   "id": "a9700a05",
   "metadata": {},
   "source": [
    "### 1 - Limitation des tags"
   ]
  },
  {
   "cell_type": "code",
   "execution_count": null,
   "id": "7e0d961e",
   "metadata": {},
   "outputs": [],
   "source": [
    "def top_tags(tag_string, n=3):\n",
    "    tags = tag_string.split()\n",
    "    tags_sorted = sorted(tags, key=lambda t: tag_counts[t], reverse=True)\n",
    "    return \" \".join(tags_sorted[:n])\n",
    "\n",
    "train[tag] = train[tag].apply(top_tags)\n",
    "train.head()"
   ]
  },
  {
   "cell_type": "markdown",
   "id": "f49e146e",
   "metadata": {},
   "source": [
    "### 2 - Limitation du nombre de caractères de Text"
   ]
  },
  {
   "cell_type": "markdown",
   "id": "2890c3a9",
   "metadata": {},
   "source": [
    "#### Détection de langue"
   ]
  },
  {
   "cell_type": "code",
   "execution_count": null,
   "id": "6f2008e7",
   "metadata": {},
   "outputs": [],
   "source": [
    "DetectorFactory.seed = 0 \n",
    "\n",
    "def detect_language(text):\n",
    "    try:\n",
    "        return detect(text)\n",
    "    except:\n",
    "        return \"unknown\"\n",
    "\n",
    "train[\"lang\"] = train[text].astype(str).apply(detect_language)\n"
   ]
  },
  {
   "cell_type": "code",
   "execution_count": null,
   "id": "81f97e8c",
   "metadata": {},
   "outputs": [],
   "source": [
    "lang = \"lang\"\n",
    "\n",
    "train[lang].value_counts()"
   ]
  },
  {
   "cell_type": "markdown",
   "id": "682fb819",
   "metadata": {},
   "source": [
    "Suppression des autres langues que EN :"
   ]
  },
  {
   "cell_type": "code",
   "execution_count": null,
   "id": "cacda370",
   "metadata": {},
   "outputs": [],
   "source": [
    "train = train[train[\"lang\"] == \"en\"].copy()"
   ]
  },
  {
   "cell_type": "code",
   "execution_count": null,
   "id": "a6bd4de7",
   "metadata": {},
   "outputs": [],
   "source": [
    "nltk.download(\"stopwords\")\n",
    "nltk.download(\"wordnet\")\n",
    "\n",
    "stop_words = set(stopwords.words(\"english\"))\n",
    "lemmatizer = WordNetLemmatizer()\n",
    "\n",
    "def clean_text(text):\n",
    "    words = text.split()\n",
    "    words = [lemmatizer.lemmatize(w) for w in words if w not in stop_words]\n",
    "    return \" \".join(words)\n",
    "\n",
    "train[tag] = train[tag].astype(str).apply(clean_text)\n",
    "train[text] = train[text].astype(str).apply(clean_text)"
   ]
  },
  {
   "cell_type": "code",
   "execution_count": null,
   "id": "7321b909",
   "metadata": {},
   "outputs": [],
   "source": [
    "train[text] = train[text].str[:200]"
   ]
  },
  {
   "cell_type": "markdown",
   "id": "5cfbe379",
   "metadata": {},
   "source": [
    "### 3 - Traitements des Labels"
   ]
  },
  {
   "cell_type": "markdown",
   "id": "75fc2acf",
   "metadata": {},
   "source": [
    "#### Suppression des Unknown"
   ]
  },
  {
   "cell_type": "code",
   "execution_count": null,
   "id": "d94bbe50",
   "metadata": {},
   "outputs": [],
   "source": [
    "train = train[train[\"Labels\"] != 4].copy()"
   ]
  },
  {
   "cell_type": "code",
   "execution_count": null,
   "id": "7e891529",
   "metadata": {},
   "outputs": [],
   "source": [
    "train[label].unique()"
   ]
  },
  {
   "cell_type": "markdown",
   "id": "7db16a74",
   "metadata": {},
   "source": [
    "#### Regroupement de classes"
   ]
  },
  {
   "cell_type": "code",
   "execution_count": null,
   "id": "bfc63358",
   "metadata": {},
   "outputs": [],
   "source": [
    "mapping_labels = {\n",
    "    0: \"False\",\n",
    "    1: \"False\",\n",
    "    2: \"Partially True\",\n",
    "    3: \"Mostly True\",\n",
    "    5: \"True\"\n",
    "}\n",
    "\n",
    "train[\"Labels\"] = train[\"Labels\"].map(mapping_labels)\n",
    "\n",
    "numeric_mapping = {\n",
    "    \"False\": 0,\n",
    "    \"Partially True\": 1,\n",
    "    \"Mostly True\": 2,\n",
    "    \"True\": 3\n",
    "}\n",
    "\n",
    "train[\"Labels\"] = train[\"Labels\"].map(numeric_mapping)"
   ]
  },
  {
   "cell_type": "code",
   "execution_count": null,
   "id": "22d04e21",
   "metadata": {},
   "outputs": [],
   "source": [
    "train[label].unique()"
   ]
  },
  {
   "cell_type": "code",
   "execution_count": null,
   "id": "a0b1f3cb",
   "metadata": {},
   "outputs": [],
   "source": [
    "print(train[\"Labels\"].value_counts())"
   ]
  },
  {
   "cell_type": "code",
   "execution_count": null,
   "id": "badd2842",
   "metadata": {},
   "outputs": [],
   "source": [
    "plt.figure(figsize=(8,5), facecolor=\"#2b2b2b\")  # fond gris foncé\n",
    "\n",
    "ax = train[\"Labels\"].value_counts().sort_index().plot(\n",
    "    kind=\"bar\",\n",
    "    color=\"skyblue\",\n",
    "    edgecolor=\"black\"\n",
    ")\n",
    "\n",
    "ax.set_facecolor(\"#2b2b2b\")         \n",
    "ax.tick_params(colors=\"white\")       \n",
    "ax.yaxis.label.set_color(\"white\")    \n",
    "ax.xaxis.label.set_color(\"white\")   \n",
    "ax.title.set_color(\"white\")         \n",
    "\n",
    "plt.xlabel(\"Label\")\n",
    "plt.ylabel(\"Nombre d'entrées\")\n",
    "plt.title(\"Répartition des Labels après regroupement\")\n",
    "plt.grid(axis='y', alpha=0.75, color=\"gray\") \n",
    "plt.show()"
   ]
  },
  {
   "cell_type": "markdown",
   "id": "97a660bf",
   "metadata": {},
   "source": [
    "On constate une représentation plus importante des 0 (False) suite au regroupement des classes."
   ]
  },
  {
   "cell_type": "markdown",
   "id": "ecc64b0c",
   "metadata": {},
   "source": [
    "Je décide de conserver les 4 classes pour le moment, le modèle proposera des nuances dont je vérifierai la pertinence."
   ]
  },
  {
   "cell_type": "markdown",
   "id": "f4d2eb1d",
   "metadata": {},
   "source": [
    "La proposition pour avoir une classification binaire sera de regrouper 0 et 1 et de regrouper 2 et 3 mais nous garderons un déséquilibre de l'ordre de 5k7 vs 3k6. L'avantage sera d'avoir une sortie binaire pour l'entraînement de mon modèle."
   ]
  },
  {
   "cell_type": "markdown",
   "id": "f990e115",
   "metadata": {},
   "source": [
    "### 4 - Suppression des colonnes de travail"
   ]
  },
  {
   "cell_type": "code",
   "execution_count": null,
   "id": "ee3e389d",
   "metadata": {},
   "outputs": [],
   "source": [
    "train.head()"
   ]
  },
  {
   "cell_type": "code",
   "execution_count": null,
   "id": "e02c3721",
   "metadata": {},
   "outputs": [],
   "source": [
    "train = train.drop([\"len_text\", \"word_text\", \"repeated_letters\", \"count_tag\", \"lang\"], axis=1)"
   ]
  },
  {
   "cell_type": "code",
   "execution_count": null,
   "id": "f013c8c7",
   "metadata": {},
   "outputs": [],
   "source": [
    "train.head()"
   ]
  },
  {
   "cell_type": "markdown",
   "id": "b4bcafde",
   "metadata": {},
   "source": [
    "# 3 - Préparation des jeux de données pour les modèles"
   ]
  },
  {
   "cell_type": "markdown",
   "id": "767ef069",
   "metadata": {},
   "source": [
    "## 1 - Création du jeu de validation"
   ]
  },
  {
   "cell_type": "code",
   "execution_count": null,
   "id": "9329d5e8",
   "metadata": {},
   "outputs": [],
   "source": [
    "text = \"Text\"\n",
    "tag = \"Text_Tag\"\n",
    "label = \"Labels\"\n",
    "\n",
    "X = train[[text, tag]]\n",
    "y = train[label]\n",
    "\n",
    "X_train, X_temp, y_train, y_temp = train_test_split(\n",
    "    X, y, test_size=0.3, stratify=y, random_state=42\n",
    ")\n",
    "\n",
    "X_val, X_test, y_val, y_test = train_test_split(\n",
    "    X_temp, y_temp, test_size=0.5, stratify=y_temp, random_state=42\n",
    ")\n",
    "\n",
    "print(\"Train:\", X_train.shape, y_train.shape)\n",
    "print(\"Validation:\", X_val.shape, y_val.shape)\n",
    "print(\"Test:\", X_test.shape, y_test.shape)"
   ]
  },
  {
   "cell_type": "markdown",
   "id": "d6745fb7",
   "metadata": {},
   "source": [
    "# 4 - Entraînement du modèle Régression Logistique"
   ]
  },
  {
   "cell_type": "markdown",
   "id": "8d845104",
   "metadata": {},
   "source": [
    "## 0 - TF-IDF pour Text"
   ]
  },
  {
   "cell_type": "markdown",
   "id": "d6db1c2d",
   "metadata": {},
   "source": [
    "#### Création des transformers"
   ]
  },
  {
   "cell_type": "code",
   "execution_count": null,
   "id": "881bef5a",
   "metadata": {},
   "outputs": [],
   "source": [
    "text_transformer = TfidfVectorizer(max_features=5000, ngram_range=(1,2))\n",
    "\n",
    "tag_transformer = CountVectorizer(token_pattern=r\"(?u)\\b\\w+\\b\")"
   ]
  },
  {
   "cell_type": "markdown",
   "id": "95d3bf32",
   "metadata": {},
   "source": [
    "#### Transformation des colonnes"
   ]
  },
  {
   "cell_type": "code",
   "execution_count": null,
   "id": "1e2a9122",
   "metadata": {},
   "outputs": [],
   "source": [
    "preprocessor = ColumnTransformer(\n",
    "    transformers=[\n",
    "        (\"text\", text_transformer, \"Text\"),\n",
    "        (\"tags\", tag_transformer, \"Text_Tag\")\n",
    "    ]\n",
    ")"
   ]
  },
  {
   "cell_type": "markdown",
   "id": "3ef02b2f",
   "metadata": {},
   "source": [
    "#### Création du Pipeline"
   ]
  },
  {
   "cell_type": "code",
   "execution_count": null,
   "id": "661c5b2f",
   "metadata": {},
   "outputs": [],
   "source": [
    "model_pipeline = Pipeline([\n",
    "    (\"features\", preprocessor),\n",
    "    (\"classifier\", LogisticRegression(\n",
    "        solver=\"lbfgs\",\n",
    "        max_iter=1000,\n",
    "        class_weight=\"balanced\",\n",
    "        random_state=42\n",
    "    ))\n",
    "])"
   ]
  },
  {
   "cell_type": "markdown",
   "id": "44a3e3a1",
   "metadata": {},
   "source": [
    "## 1 - Entraînement"
   ]
  },
  {
   "cell_type": "code",
   "execution_count": null,
   "id": "9989b9f9",
   "metadata": {},
   "outputs": [],
   "source": [
    "model_pipeline.fit(X_train, y_train)"
   ]
  },
  {
   "cell_type": "markdown",
   "id": "4e05f611",
   "metadata": {},
   "source": [
    "## 2 - Évaluation"
   ]
  },
  {
   "cell_type": "code",
   "execution_count": null,
   "id": "f6fa2e2d",
   "metadata": {},
   "outputs": [],
   "source": [
    "y_pred = model_pipeline.predict(X_val)\n",
    "\n",
    "print(\"=== Classification Report ===\")\n",
    "print(classification_report(y_val, y_pred, target_names=[\"False\", \"Partially True\", \"Mostly True\", \"True\"]))\n",
    "\n",
    "# --- Matrice de confusion ---\n",
    "cm = confusion_matrix(y_val, y_pred)\n",
    "labels = [\"False\", \"Partially True\", \"Mostly True\", \"True\"]\n",
    "\n",
    "plt.figure(figsize=(8, 6))\n",
    "sns.heatmap(cm, annot=True, fmt=\"d\", cmap=\"Blues\", xticklabels=labels, yticklabels=labels, cbar=False)\n",
    "plt.xlabel(\"Predicted\", fontsize=12)\n",
    "plt.ylabel(\"Actual\", fontsize=12)\n",
    "plt.title(\"Confusion Matrix\", fontsize=14)\n",
    "plt.show()"
   ]
  },
  {
   "cell_type": "code",
   "execution_count": null,
   "id": "7023d88b",
   "metadata": {},
   "outputs": [],
   "source": [
    "report = classification_report(y_val, y_pred, target_names=labels, output_dict=True)\n",
    "df_report = pd.DataFrame(report).transpose()\n",
    "\n",
    "# affichage stylisé\n",
    "print(df_report)\n",
    "\n",
    "# heatmap des scores\n",
    "plt.figure(figsize=(8, 4))\n",
    "sns.heatmap(df_report.iloc[:-1, :-1], annot=True, cmap=\"Greens\", cbar=False, fmt=\".2f\")\n",
    "plt.title(\"Classification Report (Precision / Recall / F1)\")\n",
    "plt.show()"
   ]
  },
  {
   "cell_type": "markdown",
   "id": "f55df807",
   "metadata": {},
   "source": [
    "# 5 - Entraînement du modèle Random Forest"
   ]
  },
  {
   "cell_type": "markdown",
   "id": "b1cb569e",
   "metadata": {},
   "source": [
    "## 1 - Pipeline"
   ]
  },
  {
   "cell_type": "code",
   "execution_count": null,
   "id": "9d771c8c",
   "metadata": {},
   "outputs": [],
   "source": [
    "model_pipeline2 = Pipeline([\n",
    "    (\"preprocess\", preprocessor),\n",
    "    (\"clf\", RandomForestClassifier(\n",
    "        n_estimators=200,\n",
    "        max_depth=None,\n",
    "        random_state=42,\n",
    "        n_jobs=-1\n",
    "    ))\n",
    "])"
   ]
  },
  {
   "cell_type": "markdown",
   "id": "f95f7daa",
   "metadata": {},
   "source": [
    "## 2 - Entraînement"
   ]
  },
  {
   "cell_type": "code",
   "execution_count": null,
   "id": "cfa7d8fa",
   "metadata": {},
   "outputs": [],
   "source": [
    "print(X_train.shape)\n",
    "print(len(y_train))\n"
   ]
  },
  {
   "cell_type": "code",
   "execution_count": null,
   "id": "3dc86707",
   "metadata": {},
   "outputs": [],
   "source": [
    "model_pipeline2.fit(X_train, y_train)"
   ]
  },
  {
   "cell_type": "markdown",
   "id": "2ef62167",
   "metadata": {},
   "source": [
    "## 3 - Évaluation"
   ]
  },
  {
   "cell_type": "code",
   "execution_count": null,
   "id": "3df376cf",
   "metadata": {},
   "outputs": [],
   "source": [
    "y_pred = model_pipeline2.predict(X_val)\n",
    "\n",
    "# Rapport\n",
    "print(\"=== Classification Report ===\")\n",
    "print(classification_report(y_val, y_pred, target_names=[\"False\", \"Partially True\", \"Mostly True\", \"True\"]))\n",
    "\n",
    "# --- Matrice de confusion graphique ---\n",
    "cm = confusion_matrix(y_val, y_pred)\n",
    "labels = [\"False\", \"Partially True\", \"Mostly True\", \"True\"]\n",
    "\n",
    "plt.figure(figsize=(8, 6))\n",
    "sns.heatmap(cm, annot=True, fmt=\"d\", cmap=\"Blues\", xticklabels=labels, yticklabels=labels, cbar=False)\n",
    "plt.xlabel(\"Predicted\", fontsize=12)\n",
    "plt.ylabel(\"Actual\", fontsize=12)\n",
    "plt.title(\"Confusion Matrix - RandomForest\", fontsize=14)\n",
    "plt.show()"
   ]
  },
  {
   "cell_type": "markdown",
   "id": "463c537b",
   "metadata": {},
   "source": [
    "# 6 - Entraînement du modèle LSTM"
   ]
  },
  {
   "cell_type": "markdown",
   "id": "84836300",
   "metadata": {},
   "source": [
    "## 1 - Préparation des données"
   ]
  },
  {
   "cell_type": "code",
   "execution_count": null,
   "id": "c5567507",
   "metadata": {},
   "outputs": [],
   "source": [
    "X_train_text = (X_train[\"Text\"].astype(str) + \" \" + X_train[\"Text_Tag\"].astype(str)).tolist()\n",
    "X_val_text = (X_val[\"Text\"].astype(str) + \" \" + X_val[\"Text_Tag\"].astype(str)).tolist()\n",
    "X_test_text = (X_test[\"Text\"].astype(str) + \" \" + X_test[\"Text_Tag\"].astype(str)).tolist()\n"
   ]
  },
  {
   "cell_type": "code",
   "execution_count": null,
   "id": "4db4207c",
   "metadata": {},
   "outputs": [],
   "source": [
    "max_words = 5000 \n",
    "max_len = 200       \n",
    "embedding_dim = 64\n",
    "\n",
    "vectorizer = TextVectorization(max_tokens=max_words, output_sequence_length=max_len)\n",
    "vectorizer.adapt(X_train_text)\n",
    "\n",
    "\n",
    "X_train_vec = vectorizer(X_train_text)\n",
    "X_val_vec   = vectorizer(X_val_text)\n",
    "X_test_vec  = vectorizer(X_test_text)\n",
    "\n",
    "\n"
   ]
  },
  {
   "cell_type": "markdown",
   "id": "8b5a8e0b",
   "metadata": {},
   "source": [
    "## 2 - Création du modèle"
   ]
  },
  {
   "cell_type": "code",
   "execution_count": null,
   "id": "6c40c464",
   "metadata": {},
   "outputs": [],
   "source": [
    "model = Sequential([\n",
    "    Embedding(input_dim=max_words, output_dim=embedding_dim),\n",
    "    Bidirectional(LSTM(64, dropout=0.3, recurrent_dropout=0.3)),\n",
    "    Dense(4, activation='softmax')\n",
    "])\n",
    "\n",
    "model.compile(loss='sparse_categorical_crossentropy', optimizer='adam', metrics=['accuracy'])"
   ]
  },
  {
   "cell_type": "markdown",
   "id": "1f6f6067",
   "metadata": {},
   "source": [
    "## 3 - Entraînement"
   ]
  },
  {
   "cell_type": "code",
   "execution_count": null,
   "id": "924bad23",
   "metadata": {},
   "outputs": [],
   "source": [
    "history = model.fit(\n",
    "    X_train_vec, np.array(y_train),\n",
    "    validation_data=(X_val_vec, np.array(y_val)),\n",
    "    epochs=6,\n",
    "    batch_size=32,\n",
    ")"
   ]
  },
  {
   "cell_type": "markdown",
   "id": "2a29e8c3",
   "metadata": {},
   "source": [
    "## 4 - Évaluation"
   ]
  },
  {
   "cell_type": "code",
   "execution_count": null,
   "id": "73135aaa",
   "metadata": {},
   "outputs": [],
   "source": [
    "# Prédictions\n",
    "y_pred_prob = model.predict(X_test_vec)\n",
    "y_pred = np.argmax(y_pred_prob, axis=1)\n",
    "\n",
    "labels_names = [\"False\", \"Partially True\", \"Mostly True\", \"True\"]\n",
    "print(\"=== Classification Report ===\")\n",
    "print(classification_report(y_val, y_pred, target_names=labels_names))\n",
    "\n",
    "# Matrice de confusion graphique\n",
    "cm = confusion_matrix(y_val, y_pred)\n",
    "plt.figure(figsize=(8,6))\n",
    "sns.heatmap(cm, annot=True, fmt=\"d\", xticklabels=labels_names, yticklabels=labels_names, cmap=\"Blues\")\n",
    "plt.xlabel(\"Predicted\")\n",
    "plt.ylabel(\"Actual\")\n",
    "plt.title(\"Confusion Matrix - LSTM\")\n",
    "plt.show()"
   ]
  },
  {
   "cell_type": "markdown",
   "id": "e9655081",
   "metadata": {},
   "source": [
    "- Modèle proche du hasard, fort overfit, plusieurs tests sur des modèles plus lourds et plus légers (8-64 neurones)."
   ]
  },
  {
   "cell_type": "markdown",
   "id": "3e91c474",
   "metadata": {},
   "source": [
    "Conclusion ML : Dataset apparemment trop petit pour du Machine Learning de base. Difficulté à comprendre le sens des données ce qui donne lieu à de l'overfitting et de la prédiction proche du hasard influencée par la représentation des classes. Possibilité d'augmenter artificiellement l'accuracy en passant à 2 classes au lieu de 4 (25% -> 50%)."
   ]
  },
  {
   "cell_type": "markdown",
   "id": "6a880817",
   "metadata": {},
   "source": [
    "# 7 - Entraînement du modèle BERT"
   ]
  },
  {
   "cell_type": "markdown",
   "id": "67d1c0cf",
   "metadata": {},
   "source": [
    "## 1 - Chargement du modèle (pré-entraîné, principe de BERT)"
   ]
  },
  {
   "cell_type": "code",
   "execution_count": null,
   "id": "bb4be253",
   "metadata": {},
   "outputs": [],
   "source": [
    "tokenizer = AutoTokenizer.from_pretrained(\"distilbert-base-uncased\")"
   ]
  },
  {
   "cell_type": "markdown",
   "id": "24e2f044",
   "metadata": {},
   "source": [
    "## 2 - Transformation des jeux de données en DF"
   ]
  },
  {
   "cell_type": "code",
   "execution_count": null,
   "id": "8f5f57be",
   "metadata": {},
   "outputs": [],
   "source": [
    "\n",
    "train_df = pd.concat([X_train, y_train], axis=1).reset_index(drop=True)\n",
    "val_df = pd.concat([X_val, y_val], axis=1).reset_index(drop=True)\n",
    "test_df = pd.concat([X_test, y_test], axis=1).reset_index(drop=True)"
   ]
  },
  {
   "cell_type": "code",
   "execution_count": null,
   "id": "23d17b44",
   "metadata": {},
   "outputs": [],
   "source": [
    "train_dataset = Dataset.from_pandas(train_df)\n",
    "val_dataset = Dataset.from_pandas(val_df)\n",
    "test_dataset = Dataset.from_pandas(test_df)"
   ]
  },
  {
   "cell_type": "markdown",
   "id": "a61dc29d",
   "metadata": {},
   "source": [
    "## 3 - Création du modèle"
   ]
  },
  {
   "cell_type": "code",
   "execution_count": null,
   "id": "a92b0d59",
   "metadata": {},
   "outputs": [],
   "source": [
    "num_labels = train_df[label].nunique()\n",
    "\n",
    "model = AutoModelForSequenceClassification.from_pretrained(\n",
    "    \"distilbert-base-uncased\",\n",
    "    num_labels=num_labels\n",
    ")"
   ]
  },
  {
   "cell_type": "markdown",
   "id": "b459e64b",
   "metadata": {},
   "source": [
    "## 4 - Entraînement"
   ]
  },
  {
   "cell_type": "code",
   "execution_count": null,
   "id": "aef50f2c",
   "metadata": {},
   "outputs": [],
   "source": [
    "from transformers import TrainingArguments, Trainer\n",
    "import numpy as np\n",
    "import evaluate\n",
    "\n",
    "accuracy = evaluate.load(\"accuracy\")\n",
    "\n",
    "def compute_metrics(eval_pred):\n",
    "    logits, labels = eval_pred\n",
    "    predictions = np.argmax(logits, axis=-1)\n",
    "    return accuracy.compute(predictions=predictions, references=labels)\n",
    "\n",
    "training_args = TrainingArguments(\n",
    "    output_dir=\"./results\",\n",
    "    evaluation_strategy=\"epoch\",\n",
    "    save_strategy=\"epoch\",\n",
    "    per_device_train_batch_size=16,\n",
    "    per_device_eval_batch_size=16,\n",
    "    num_train_epochs=3,\n",
    "    weight_decay=0.01,\n",
    "    logging_dir='./logs',\n",
    ")\n",
    "\n",
    "trainer = Trainer(\n",
    "    model=model,\n",
    "    args=training_args,\n",
    "    train_dataset=train_dataset,\n",
    "    eval_dataset=val_dataset,\n",
    "    tokenizer=tokenizer,\n",
    "    compute_metrics=compute_metrics\n",
    ")\n",
    "\n",
    "trainer.train()\n"
   ]
  },
  {
   "cell_type": "markdown",
   "id": "978b2faa",
   "metadata": {},
   "source": [
    "## 5 - Évaluation"
   ]
  },
  {
   "cell_type": "code",
   "execution_count": null,
   "id": "14b5c093",
   "metadata": {},
   "outputs": [],
   "source": [
    "results = trainer.evaluate(test_dataset)\n",
    "print(results)"
   ]
  }
 ],
 "metadata": {
  "kernelspec": {
   "display_name": "venv",
   "language": "python",
   "name": "python3"
  },
  "language_info": {
   "codemirror_mode": {
    "name": "ipython",
    "version": 3
   },
   "file_extension": ".py",
   "mimetype": "text/x-python",
   "name": "python",
   "nbconvert_exporter": "python",
   "pygments_lexer": "ipython3",
   "version": "3.13.3"
  }
 },
 "nbformat": 4,
 "nbformat_minor": 5
}
